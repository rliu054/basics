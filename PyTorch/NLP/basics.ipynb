{
 "cells": [
  {
   "cell_type": "markdown",
   "metadata": {},
   "source": [
    "# Basic usage of RNN embeddings"
   ]
  },
  {
   "cell_type": "markdown",
   "metadata": {},
   "source": [
    "### You can feed multiple indices to the embedding layer."
   ]
  },
  {
   "cell_type": "code",
   "execution_count": 12,
   "metadata": {},
   "outputs": [
    {
     "name": "stdout",
     "output_type": "stream",
     "text": [
      "tensor([[ 0.4389,  0.1606,  0.6134,  0.9061,  3.2656],\n",
      "        [ 0.9126,  1.8042,  0.1382, -0.8343, -1.1398]],\n",
      "       grad_fn=<EmbeddingBackward>)\n"
     ]
    }
   ],
   "source": [
    "import torch\n",
    "import torch.nn as nn\n",
    "import torch.nn.functional as F\n",
    "import torch.optim as optim\n",
    "\n",
    "word_to_ix = {'hello': 0, 'world': 1}\n",
    "# lookup multiple indices at a time\n",
    "lookup_tensor = torch.tensor([word_to_ix['hello'], 1], dtype=torch.long)\n",
    "embed = nn.Embedding(2, 5)\n",
    "result = embed(lookup_tensor)\n",
    "print(result)"
   ]
  },
  {
   "cell_type": "code",
   "execution_count": 8,
   "metadata": {},
   "outputs": [
    {
     "name": "stdout",
     "output_type": "stream",
     "text": [
      "[[('When', 'forty'), 'winters'], [('forty', 'winters'), 'shall']]\n",
      "total_loss: 1773.1373291015625\n",
      "total_loss: 691.1527709960938\n",
      "total_loss: 681.7239990234375\n",
      "total_loss: 621.2034301757812\n",
      "total_loss: 580.2962646484375\n",
      "total_loss: 535.4334716796875\n",
      "total_loss: 627.6587524414062\n",
      "total_loss: 538.5535278320312\n",
      "total_loss: 539.4458618164062\n",
      "total_loss: 532.6720581054688\n"
     ]
    }
   ],
   "source": [
    "CONTEXT_SIZE = 2\n",
    "EMBEDDING_DIM = 10\n",
    "\n",
    "test_sentence = \"\"\"When forty winters shall besiege thy brow,\n",
    "And dig deep trenches in thy beauty's field,\n",
    "Thy youth's proud livery so gazed on now,\n",
    "Will be a totter'd weed of small worth held:\n",
    "Then being asked, where all thy beauty lies,\n",
    "Where all the treasure of thy lusty days;\n",
    "To say, within thine own deep sunken eyes,\n",
    "Were an all-eating shame, and thriftless praise.\n",
    "How much more praise deserv'd thy beauty's use,\n",
    "If thou couldst answer 'This fair child of mine\n",
    "Shall sum my count, and make my old excuse,'\n",
    "Proving his beauty by succession thine!\n",
    "This were to be new made when thou art old,\n",
    "And see thy blood warm when thou feel'st it cold.\"\"\".split()\n",
    "\n",
    "\n",
    "train_grams = [[(test_sentence[i], test_sentence[i+1]), test_sentence[i+2]]\n",
    "    for i in range(len(test_sentence) - 2)]\n",
    "print(train_grams[:2])\n",
    "\n",
    "vocab = set(test_sentence)\n",
    "vocab_size = len(vocab)\n",
    "word_to_ix = {word: i for i, word in enumerate(vocab)}\n",
    "\n",
    "class RNN(nn.Module):\n",
    "    def __init__(self, context_size, dim, vocab_size):\n",
    "        super(RNN, self).__init__()\n",
    "        self.embed = nn.Embedding(vocab_size, dim)\n",
    "        self.linear1 = nn.Linear(context_size * dim, 128) # 128 is hidden size\n",
    "        self.linear2 = nn.Linear(128, vocab_size)\n",
    "        \n",
    "    def forward(self, data):\n",
    "        out = self.embed(data).view((1, -1))\n",
    "        out = self.linear1(out)\n",
    "        out = F.relu(out)\n",
    "        out = self.linear2(out)\n",
    "        out = F.log_softmax(out, dim=1)\n",
    "        return out\n",
    "        \n",
    "model = RNN(CONTEXT_SIZE, EMBEDDING_DIM, vocab_size)\n",
    "criterion = nn.NLLLoss()\n",
    "optimimzer = optim.Adam(model.parameters(), lr=0.1)\n",
    "\n",
    "\n",
    "for epoch in range(10):\n",
    "    total_loss = 0.0\n",
    "    for words, target in train_grams:        \n",
    "        # reset to prevent accumulation\n",
    "        model.zero_grad()\n",
    "        \n",
    "        input_tensor = torch.tensor([word_to_ix[w] for w in words], dtype=torch.long)\n",
    "        target_tensor = torch.tensor([word_to_ix[target]], dtype=torch.long)\n",
    "                \n",
    "        output = model(input_tensor)\n",
    "        loss = criterion(output, target_tensor)\n",
    "        loss.backward()\n",
    "        optimimzer.step()\n",
    "        total_loss += loss\n",
    "        \n",
    "    print(\"total_loss: {}\".format(total_loss))"
   ]
  },
  {
   "cell_type": "markdown",
   "metadata": {},
   "source": [
    "### 不自己闭眼实现一遍，根本意识不到很多小的细节，如果不注意，程序就会千疮百孔。\n",
    "- `super(RNN, self).__init__`\n",
    "- `nn.Embedding()` the first dimension is the total vocab size\n",
    "- list comprehension for dictionary：`{word: i for i, word in enumerate(vocab)}`\n",
    "- `view((1, -1))`, should be double brackets just like `reshape` in numpy\n",
    "- apply `relu` after first FC layer\n",
    "- manually run `soft_max` at the very end since we're using `NLLLoss()`\n",
    "- initialize optimizer `optim.Adam` or `optim.SGD()`\n",
    "- input tensor and output tensor are just plain indices wrapped in a tensor\n",
    "- forgot to run `loss.backward()`"
   ]
  },
  {
   "cell_type": "code",
   "execution_count": null,
   "metadata": {},
   "outputs": [],
   "source": []
  }
 ],
 "metadata": {
  "kernelspec": {
   "display_name": "Python 3",
   "language": "python",
   "name": "python3"
  },
  "language_info": {
   "codemirror_mode": {
    "name": "ipython",
    "version": 3
   },
   "file_extension": ".py",
   "mimetype": "text/x-python",
   "name": "python",
   "nbconvert_exporter": "python",
   "pygments_lexer": "ipython3",
   "version": "3.7.0"
  }
 },
 "nbformat": 4,
 "nbformat_minor": 2
}
