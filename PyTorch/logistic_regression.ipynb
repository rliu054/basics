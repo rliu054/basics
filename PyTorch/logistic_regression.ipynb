{
 "cells": [
  {
   "cell_type": "code",
   "execution_count": 6,
   "metadata": {},
   "outputs": [],
   "source": [
    "import torch\n",
    "import torch.nn as nn\n",
    "import torchvision\n",
    "import torchvision.transforms as transforms\n",
    "\n",
    "\n",
    "# Hyper-parameters \n",
    "input_size = 784\n",
    "num_classes = 10\n",
    "num_epochs = 5\n",
    "batch_size = 100\n",
    "learning_rate = 0.001"
   ]
  },
  {
   "cell_type": "markdown",
   "metadata": {},
   "source": [
    "## MNIST dataset"
   ]
  },
  {
   "cell_type": "code",
   "execution_count": 4,
   "metadata": {},
   "outputs": [],
   "source": [
    "train_dataset = torchvision.datasets.MNIST(root='./data', \n",
    "                                           train=True, \n",
    "                                           transform=transforms.ToTensor(),\n",
    "                                           download=True)\n",
    "\n",
    "test_dataset = torchvision.datasets.MNIST(root='./data', \n",
    "                                          train=False, \n",
    "                                          transform=transforms.ToTensor())\n",
    "\n",
    "# Data loader (input pipeline)\n",
    "train_loader = torch.utils.data.DataLoader(dataset=train_dataset, \n",
    "                                           batch_size=batch_size, \n",
    "                                           shuffle=True)\n",
    "\n",
    "test_loader = torch.utils.data.DataLoader(dataset=test_dataset, \n",
    "                                          batch_size=batch_size, \n",
    "                                          shuffle=False)"
   ]
  },
  {
   "cell_type": "markdown",
   "metadata": {},
   "source": [
    "## Logistic regression model"
   ]
  },
  {
   "cell_type": "code",
   "execution_count": 7,
   "metadata": {},
   "outputs": [
    {
     "name": "stdout",
     "output_type": "stream",
     "text": [
      "Epoch [1/5], Step [100/600], Loss: 2.2373\n",
      "Epoch [1/5], Step [200/600], Loss: 2.1288\n",
      "Epoch [1/5], Step [300/600], Loss: 2.0335\n",
      "Epoch [1/5], Step [400/600], Loss: 1.9938\n",
      "Epoch [1/5], Step [500/600], Loss: 1.8605\n",
      "Epoch [1/5], Step [600/600], Loss: 1.8290\n",
      "Epoch [2/5], Step [100/600], Loss: 1.7210\n",
      "Epoch [2/5], Step [200/600], Loss: 1.6945\n",
      "Epoch [2/5], Step [300/600], Loss: 1.5660\n",
      "Epoch [2/5], Step [400/600], Loss: 1.5639\n",
      "Epoch [2/5], Step [500/600], Loss: 1.5612\n",
      "Epoch [2/5], Step [600/600], Loss: 1.4403\n",
      "Epoch [3/5], Step [100/600], Loss: 1.4107\n",
      "Epoch [3/5], Step [200/600], Loss: 1.4068\n",
      "Epoch [3/5], Step [300/600], Loss: 1.3042\n",
      "Epoch [3/5], Step [400/600], Loss: 1.3518\n",
      "Epoch [3/5], Step [500/600], Loss: 1.2986\n",
      "Epoch [3/5], Step [600/600], Loss: 1.2536\n",
      "Epoch [4/5], Step [100/600], Loss: 1.1918\n",
      "Epoch [4/5], Step [200/600], Loss: 1.1809\n",
      "Epoch [4/5], Step [300/600], Loss: 1.1537\n",
      "Epoch [4/5], Step [400/600], Loss: 1.1009\n",
      "Epoch [4/5], Step [500/600], Loss: 1.1142\n",
      "Epoch [4/5], Step [600/600], Loss: 1.1092\n",
      "Epoch [5/5], Step [100/600], Loss: 1.0846\n",
      "Epoch [5/5], Step [200/600], Loss: 1.0349\n",
      "Epoch [5/5], Step [300/600], Loss: 1.1479\n",
      "Epoch [5/5], Step [400/600], Loss: 1.0570\n",
      "Epoch [5/5], Step [500/600], Loss: 1.0883\n",
      "Epoch [5/5], Step [600/600], Loss: 1.0871\n"
     ]
    }
   ],
   "source": [
    "model = nn.Linear(input_size, num_classes)\n",
    "\n",
    "criterion = nn.CrossEntropyLoss()\n",
    "optimizer = torch.optim.SGD(model.parameters(), lr=learning_rate)\n",
    "\n",
    "total_step = len(train_loader)\n",
    "for epoch in range(num_epochs):\n",
    "    for i, (images, labels) in enumerate(train_loader):\n",
    "        # Reshape images to (batch_size, input_size)\n",
    "        images = images.reshape(-1, 28 * 28)\n",
    "        \n",
    "        # forward\n",
    "        outputs = model(images)\n",
    "        loss = criterion(outputs, labels)\n",
    "        \n",
    "        # backward\n",
    "        optimizer.zero_grad()\n",
    "        loss.backward()\n",
    "        optimizer.step()\n",
    "        \n",
    "        if (i+1) % 100 == 0:\n",
    "            print ('Epoch [{}/{}], Step [{}/{}], Loss: {:.4f}' \n",
    "                   .format(epoch+1, num_epochs, i+1, total_step, loss.item()))"
   ]
  },
  {
   "cell_type": "markdown",
   "metadata": {},
   "source": [
    "## Test the model"
   ]
  },
  {
   "cell_type": "code",
   "execution_count": 13,
   "metadata": {},
   "outputs": [
    {
     "name": "stdout",
     "output_type": "stream",
     "text": [
      "Accuracy of the model on the 10000 test images: 82.5 %\n"
     ]
    }
   ],
   "source": [
    "# no need to compute gradients\n",
    "with torch.no_grad():\n",
    "    correct = 0\n",
    "    total = 0\n",
    "    for images, labels in test_loader:\n",
    "        images = images.reshape(-1, 28 * 28)\n",
    "        outputs = model(images)\n",
    "        _, predicted = torch.max(outputs.data, 1)\n",
    "        total += labels.size(0)\n",
    "        correct += (predicted == labels).sum().item()\n",
    "    \n",
    "    print('Accuracy of the model on the 10000 test images: {} %'.format(100 * correct / total))\n",
    "\n",
    "torch.save(model.state_dict(), 'log_model.ckpt')"
   ]
  },
  {
   "cell_type": "code",
   "execution_count": null,
   "metadata": {},
   "outputs": [],
   "source": []
  }
 ],
 "metadata": {
  "kernelspec": {
   "display_name": "Python 3",
   "language": "python",
   "name": "python3"
  },
  "language_info": {
   "codemirror_mode": {
    "name": "ipython",
    "version": 3
   },
   "file_extension": ".py",
   "mimetype": "text/x-python",
   "name": "python",
   "nbconvert_exporter": "python",
   "pygments_lexer": "ipython3",
   "version": "3.7.0"
  }
 },
 "nbformat": 4,
 "nbformat_minor": 2
}
